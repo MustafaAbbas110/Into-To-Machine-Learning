{
 "cells": [
  {
   "cell_type": "markdown",
   "metadata": {},
   "source": [
    "# DAY 1 \n",
    "## COST FUNCTION"
   ]
  },
  {
   "cell_type": "code",
   "execution_count": 578,
   "metadata": {},
   "outputs": [],
   "source": [
    "import numpy as np\n",
    "import matplotlib.pyplot as plt"
   ]
  },
  {
   "cell_type": "code",
   "execution_count": 611,
   "metadata": {},
   "outputs": [],
   "source": [
    "# Dataset\n",
    "\n",
    "m = 50 # Numnbers of Example\n",
    "n = 2 # Numbers Of Features (including Bais)\n",
    "X = np.array(range(m)).reshape(-1,1)\n",
    "Y = np.array(range(m)).reshape(-1,1)\n",
    "theta = np.random.random((n,1))"
   ]
  },
  {
   "cell_type": "markdown",
   "metadata": {},
   "source": [
    "$ Y = {\\theta}_0 * X_0 + {\\theta}_1 * X_1   $"
   ]
  },
  {
   "cell_type": "markdown",
   "metadata": {},
   "source": [
    "$ X_0 = 1 $"
   ]
  },
  {
   "cell_type": "code",
   "execution_count": 612,
   "metadata": {},
   "outputs": [],
   "source": [
    "# Adding bais X(0) Value in X  \n",
    "\n",
    "Xnew = np.insert(X,0,1,axis=1)"
   ]
  },
  {
   "cell_type": "markdown",
   "metadata": {},
   "source": [
    "$ h_{\\theta} = X * {\\theta} $"
   ]
  },
  {
   "cell_type": "code",
   "execution_count": 613,
   "metadata": {},
   "outputs": [],
   "source": [
    "# Initial Prediction Of Y (with out Training)\n",
    "\n",
    "h = Xnew.dot(theta)"
   ]
  },
  {
   "cell_type": "code",
   "execution_count": 614,
   "metadata": {},
   "outputs": [
    {
     "data": {
      "image/png": "[encoded data removed]",
      "text/plain": [
       "<Figure size 432x288 with 1 Axes>"
      ]
     },
     "metadata": {
      "needs_background": "light"
     },
     "output_type": "display_data"
    }
   ],
   "source": [
    "# Plot Data into 2D scatter Plot (initial Observation)\n",
    "\n",
    "plt.figure(1)\n",
    "plt.plot(X,Y,'go')\n",
    "plt.plot(X,h,'b')\n",
    "plt.grid(True)"
   ]
  },
  {
   "cell_type": "markdown",
   "metadata": {},
   "source": [
    "# Cost Function For Regression Model"
   ]
  },
  {
   "cell_type": "markdown",
   "metadata": {},
   "source": [
    "$ Cost=  1 / (2*m) \\sum \\limits _{i=1} ^{m} {(h_{\\theta}(x ^i) - y ^i)}^2 $"
   ]
  },
  {
   "cell_type": "code",
   "execution_count": 615,
   "metadata": {},
   "outputs": [],
   "source": [
    "# Step By Step Solution"
   ]
  },
  {
   "cell_type": "markdown",
   "metadata": {},
   "source": [
    "$ error = h_{\\theta} - Y $ "
   ]
  },
  {
   "cell_type": "markdown",
   "metadata": {},
   "source": [
    "$ sqrError = {error} ^2  $"
   ]
  },
  {
   "cell_type": "markdown",
   "metadata": {},
   "source": [
    "$ sumOfError = \\sum \\limits_{i=1} ^{m} {sqrError}^i $"
   ]
  },
  {
   "cell_type": "markdown",
   "metadata": {},
   "source": [
    "$ Cost = 1/(2*m) * sumOfError $"
   ]
  },
  {
   "cell_type": "code",
   "execution_count": 616,
   "metadata": {},
   "outputs": [],
   "source": [
    "def Cost_function(X,Y,h):\n",
    "    error = h - Y\n",
    "    sqr_error = np.square(error)\n",
    "    sum_Of_error = np.sum(sqr_error)\n",
    "    return 1/(2*m) * sum_Of_error"
   ]
  },
  {
   "cell_type": "code",
   "execution_count": 617,
   "metadata": {},
   "outputs": [
    {
     "data": {
      "text/plain": [
       "2.7303681520993814"
      ]
     },
     "execution_count": 617,
     "metadata": {},
     "output_type": "execute_result"
    }
   ],
   "source": [
    "# Value Of Cost Function Define Accuraccy of Hypothesis' Fucntion\n",
    "# More Closer to 0, More Better and accurate Value of Theta we have\n",
    "# Our main Goal is minimize this Cost Function By using Gradient Descenet Algorithm \n",
    "\n",
    "Cost_function(X,Y,h)"
   ]
  },
  {
   "cell_type": "code",
   "execution_count": 618,
   "metadata": {},
   "outputs": [],
   "source": [
    "# Why we use mean 1/2 term in this Cost Function ?\n",
    "# The mean 1/2 as a convinence for the computing of gradient descent \n",
    "# as the derivation term of the square function will cencel out the 1/2 term"
   ]
  },
  {
   "cell_type": "code",
   "execution_count": 619,
   "metadata": {},
   "outputs": [],
   "source": [
    "# Why We can't us Absolute Error instead of Squared Error ?\n",
    "# Gradient is not continous, because the absolute function has not derivate at level 0"
   ]
  },
  {
   "cell_type": "markdown",
   "metadata": {},
   "source": [
    "# Graph Of Cost Fucntion Vs. Different Theta Values"
   ]
  },
  {
   "cell_type": "markdown",
   "metadata": {},
   "source": [
    "#### This is the Graph of Theta_1 vs Cost (Assume Theta_0 is set to be 0)"
   ]
  },
  {
   "cell_type": "code",
   "execution_count": 620,
   "metadata": {},
   "outputs": [
    {
     "data": {
      "image/png": "[encoded data removed]",
      "text/plain": [
       "<Figure size 432x288 with 1 Axes>"
      ]
     },
     "metadata": {
      "needs_background": "light"
     },
     "output_type": "display_data"
    }
   ],
   "source": [
    "theta_copy = np.copy(theta)\n",
    "theta_copy[0] = 0\n",
    "J = []\n",
    "# Xnorm = (X-np.average(X))/np.std(X)\n",
    "# Xnorm = np.insert(Xnorm,0,1,axis=1)\n",
    "for i in range(-100,100):\n",
    "    theta_copy[1] = i\n",
    "#     h_error = Xnorm.dot(theta_copy)\n",
    "    h_error = Xnew.dot(theta_copy)\n",
    "    J.append(Cost_function(X,Y,h_error))\n",
    "    \n",
    "# Cost Function Vs. Theta1 Graph\n",
    "\n",
    "theta_1 = np.array(range(-100,100)).reshape(-1,1)\n",
    "plt.figure(1)\n",
    "plt.plot(theta_1,J,'b')\n",
    "plt.xlabel('theta_1')\n",
    "plt.ylabel('Cost')\n",
    "plt.title('theta_1 Vs. Cost function')\n",
    "plt.grid(True)"
   ]
  },
  {
   "cell_type": "markdown",
   "metadata": {},
   "source": [
    "#### This is the Graph of Theta vs Cost (In this Graph both theta_0 and Theta_1 is included)"
   ]
  },
  {
   "cell_type": "code",
   "execution_count": 625,
   "metadata": {},
   "outputs": [],
   "source": [
    "# Import For 3D Graph\n",
    "from mpl_toolkits import mplot3d\n",
    "\n",
    "t1 = np.array(range(-100,100)).reshape(-1,1)\n",
    "t2 = np.array(range(-100,100)).reshape(-1,1)\n",
    "\n",
    "Xnorm = (X-np.average(X))/np.std(X)\n",
    "Xnorm = np.insert(Xnorm,0,1,axis=1)\n",
    "\n",
    "J_3D = []\n",
    "theta_new = np.copy(theta)\n",
    "for i in range(200):\n",
    "    theta_new[0] = t1[i]\n",
    "    theta_new[1] = t2[i]\n",
    "    h_error = Xnorm.dot(theta_copy)\n",
    "    J_3D.append(Cost_function(X,Y,h_error))\n",
    "    \n",
    "    \n",
    "T1,T2 = np.meshgrid(t1,t2)\n",
    "J = np.meshgrid(J_3D,J_3D)\n",
    "J = np.array(J)\n",
    "Ja = J[0]\n",
    "Ja = J[1]"
   ]
  },
  {
   "cell_type": "code",
   "execution_count": null,
   "metadata": {},
   "outputs": [],
   "source": [
    "fig = plt.figure(2)\n",
    "ax = plt.axes(projection='3d')\n",
    "ax.plot_surface(T1, T2, Ja, rstride=1, cstride=1,\n",
    "                cmap='viridis', edgecolor='none')\n",
    "plt.title('theta Vs. Cost function')\n",
    "ax.set_xlabel('theta_1')\n",
    "ax.set_ylabel('theta_2')\n",
    "ax.set_zlabel('Cost');\n",
    "ax.view_init(30, 20)"
   ]
  },
  {
   "cell_type": "code",
   "execution_count": 591,
   "metadata": {},
   "outputs": [],
   "source": [
    "# Note Both Graphs have Bow (Convex) function It's mean it's only contain Global miniumum\n",
    "# Our Gaol is to find global minimum of the Cost Function using Gradient DDesccent"
   ]
  },
  {
   "cell_type": "code",
   "execution_count": null,
   "metadata": {},
   "outputs": [],
   "source": []
  },
  {
   "cell_type": "code",
   "execution_count": null,
   "metadata": {},
   "outputs": [],
   "source": []
  }
 ],
 "metadata": {
  "kernelspec": {
   "display_name": "Python 3",
   "language": "python",
   "name": "python3"
  },
  "language_info": {
   "codemirror_mode": {
    "name": "ipython",
    "version": 3
   },
   "file_extension": ".py",
   "mimetype": "text/x-python",
   "name": "python",
   "nbconvert_exporter": "python",
   "pygments_lexer": "ipython3",
   "version": "3.7.7"
  }
 },
 "nbformat": 4,
 "nbformat_minor": 4
}
